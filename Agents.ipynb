{
 "cells": [
  {
   "cell_type": "code",
   "execution_count": null,
   "metadata": {
    "colab": {
     "base_uri": "https://localhost:8080/"
    },
    "id": "oy5-thottwk0",
    "outputId": "ac24fb8a-40a1-49f5-e020-3941dc08b53b"
   },
   "outputs": [],
   "source": [
    "!pip install \"crewai[tools]\""
   ]
  },
  {
   "cell_type": "code",
   "execution_count": null,
   "metadata": {
    "colab": {
     "base_uri": "https://localhost:8080/"
    },
    "id": "DDnXGLg1uKza",
    "outputId": "658cc0ae-c294-44de-d18f-69356b0842fc"
   },
   "outputs": [],
   "source": [
    "# LLM → connects to large language models (OpenAI, Gemini, etc).\n",
    "# Agent → defines an “AI persona” (with role, goal, backstory).\n",
    "# Task → defines what each agent needs to do.\n",
    "# Crew → groups agents + tasks into a workflow.\n",
    "# SerperDevTool → a tool for web search.\n",
    "\n",
    "import os\n",
    "from crewai import LLM, Agent, Task, Crew\n",
    "from crewai_tools import SerperDevTool"
   ]
  },
  {
   "cell_type": "code",
   "execution_count": null,
   "metadata": {
    "colab": {
     "base_uri": "https://localhost:8080/",
     "height": 211
    },
    "id": "PeeJ3PZjuo9h",
    "outputId": "99018e63-a947-49b6-d2c6-2fe42001cab4"
   },
   "outputs": [],
   "source": [
    "os.environ[\"SERPER_API_KEY\"] = \"your_api\" ## For searching the web\n",
    "os.environ[\"GEMINI_API_KEY\"]=\"your_api\"\n",
    "os.environ[\"OPENAI_API_KEY\"] = \"your_api\"\n",
    "# os.environ[\"OPENAI_API_KEY\"] = os.environ[\"GEMINI_API_KEY\"]\n",
    "os.environ[\"OPENAI_API_BASE\"] = \"https://generativelanguage.googleapis.com/v1beta/openai/\""
   ]
  },
  {
   "cell_type": "code",
   "execution_count": null,
   "metadata": {
    "id": "ZzZHqv6Rvz75"
   },
   "outputs": [],
   "source": [
    "llm = LLM(\n",
    "    model = \"gemini/gemini-2.0-flash\",\n",
    "    temperature=0.1\n",
    ")\n"
   ]
  },
  {
   "cell_type": "code",
   "execution_count": null,
   "metadata": {
    "colab": {
     "base_uri": "https://localhost:8080/",
     "height": 35
    },
    "id": "CB0TGaA8v5tr",
    "outputId": "c4ab7caf-263b-4ff0-c09f-b12baa417acd"
   },
   "outputs": [],
   "source": [
    "llm.call(\"what is the capital of France?\")"
   ]
  },
  {
   "cell_type": "markdown",
   "metadata": {
    "id": "jIoMd4qrwHsP"
   },
   "source": [
    "**Agents**"
   ]
  },
  {
   "cell_type": "code",
   "execution_count": null,
   "metadata": {
    "id": "vH6Etl6UwAL8"
   },
   "outputs": [],
   "source": [
    "# This agent searches the web and collects facts.\n",
    "research_assistant = Agent(\n",
    "    role = \"Research Assistant Agent\",\n",
    "    goal = \"Take the research topic, conduct thorough research, and gather, organize, and summarize relevant information: {topic}\",\n",
    "    backstory = \"A meticulous and detail-oriented researcher with strong skills in information gathering, fact-checking, and organizing sources to provide a solid foundation for writing.\",\n",
    "    verbose = True,\n",
    "    tools = [SerperDevTool()],\n",
    "    llm = llm\n",
    ")"
   ]
  },
  {
   "cell_type": "code",
   "execution_count": null,
   "metadata": {
    "id": "RxRqtEl-wXh7"
   },
   "outputs": [],
   "source": [
    "# This agent writes the summary from the facts.\n",
    "research_writer = Agent(\n",
    "    role = \"Research Writer Agent\",\n",
    "    goal = \"Take the organized research and produce a clear, comprehensive, and well-structured research paper or report: {topic}\",\n",
    "    backstory = \"An experienced academic writer skilled in synthesizing information into professional, coherent, and well-documented research papers and reports with clarity and precision.\",\n",
    "    verbose = True,\n",
    "    llm = llm\n",
    ")"
   ]
  },
  {
   "cell_type": "markdown",
   "metadata": {
    "id": "yN4ikKrxwlfl"
   },
   "source": [
    "**Tasks**"
   ]
  },
  {
   "cell_type": "code",
   "execution_count": null,
   "metadata": {
    "id": "Qf29Iifewkoe"
   },
   "outputs": [],
   "source": [
    "task1 = Task(\n",
    "    description = \"Research and compile 3–5 recent and noteworthy facts about {topic} as of 2025.\",\n",
    "    expected_output = \"A bulleted list containing 3–5 facts.\",\n",
    "    agent = research_assistant\n",
    ")"
   ]
  },
  {
   "cell_type": "code",
   "execution_count": null,
   "metadata": {
    "id": "tSSnAMm8w8zM"
   },
   "outputs": [],
   "source": [
    "task2 = Task(\n",
    "    description = \"Using the collected facts, craft a concise 100-word blog-style summary about {topic}.\",\n",
    "    expected_output = \"A well-written blog summary (around 100 words).\",\n",
    "    agent = research_writer,\n",
    "    context = [task1],\n",
    ")"
   ]
  },
  {
   "cell_type": "markdown",
   "metadata": {
    "id": "M0QIzReWxKYs"
   },
   "source": [
    "**Crew**"
   ]
  },
  {
   "cell_type": "code",
   "execution_count": null,
   "metadata": {
    "id": "PfHKPi8nxGKy"
   },
   "outputs": [],
   "source": [
    "crew = Crew(\n",
    "    agents = [research_assistant, research_writer],\n",
    "    tasks = [task1, task2],\n",
    "    verbose = True\n",
    ")"
   ]
  },
  {
   "cell_type": "code",
   "execution_count": null,
   "metadata": {
    "colab": {
     "base_uri": "https://localhost:8080/",
     "height": 1000,
     "referenced_widgets": [
      "1ab93305d22a4b0ea87e546d8ba62814",
      "75e42409417a40ce905b17632de5e879",
      "40cf3d112fef45a69310781d68f953a8",
      "f40c8d5a57c44d709e5c36969b871906",
      "09225cfa12774d8490f66c83fce089bf",
      "1683e9b43ed04aee8ae4f3798065901b",
      "d32fd1657e0146d782f473dd18e4b10e",
      "522a6896a27848a0b709fac4f87b0364"
     ]
    },
    "id": "zXLzU3WjxO6N",
    "outputId": "90cbf53c-c6a2-435d-8598-e03a1d6ec8fd"
   },
   "outputs": [],
   "source": [
    "crew.kickoff(inputs = {\"topic\": \"The risks of AI\"})"
   ]
  },
  {
   "cell_type": "code",
   "execution_count": null,
   "metadata": {
    "id": "1xwR8TflxSG7"
   },
   "outputs": [],
   "source": []
  }
 ],
 "metadata": {
  "colab": {
   "provenance": []
  },
  "kernelspec": {
   "display_name": "Python 3",
   "name": "python3"
  },
  "language_info": {
   "name": "python"
  }
 },
 "nbformat": 4,
 "nbformat_minor": 0
}
